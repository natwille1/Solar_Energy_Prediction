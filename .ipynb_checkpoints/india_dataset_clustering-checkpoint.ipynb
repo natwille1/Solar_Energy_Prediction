{
 "cells": [
  {
   "cell_type": "code",
   "execution_count": 1,
   "metadata": {},
   "outputs": [],
   "source": [
    "import numpy as np\n",
    "import scipy\n",
    "import pandas as pd\n",
    "import math\n",
    "import random\n",
    "import sklearn\n",
    "from sklearn.model_selection import train_test_split\n",
    "from sklearn.cluster import KMeans\n",
    "import matplotlib.pyplot as plt"
   ]
  },
  {
   "cell_type": "code",
   "execution_count": 36,
   "metadata": {},
   "outputs": [
    {
     "data": {
      "text/html": [
       "<div>\n",
       "<style scoped>\n",
       "    .dataframe tbody tr th:only-of-type {\n",
       "        vertical-align: middle;\n",
       "    }\n",
       "\n",
       "    .dataframe tbody tr th {\n",
       "        vertical-align: top;\n",
       "    }\n",
       "\n",
       "    .dataframe thead th {\n",
       "        text-align: right;\n",
       "    }\n",
       "</style>\n",
       "<table border=\"1\" class=\"dataframe\">\n",
       "  <thead>\n",
       "    <tr style=\"text-align: right;\">\n",
       "      <th></th>\n",
       "      <th>Time</th>\n",
       "      <th>#0: CH0 [Â°C]</th>\n",
       "      <th>#1: CH1 [V]</th>\n",
       "      <th>#2: CH2 [Digit]</th>\n",
       "      <th>#3: CH3 [V]</th>\n",
       "      <th>#4: CH4 [Digit]</th>\n",
       "      <th>PV Current</th>\n",
       "      <th>Battery Current</th>\n",
       "    </tr>\n",
       "  </thead>\n",
       "  <tbody>\n",
       "    <tr>\n",
       "      <th>0</th>\n",
       "      <td>6/23/15 12:28</td>\n",
       "      <td>30.40</td>\n",
       "      <td>18.37</td>\n",
       "      <td>32777</td>\n",
       "      <td>12.89</td>\n",
       "      <td>32779</td>\n",
       "      <td>-0.114042</td>\n",
       "      <td>-0.09240</td>\n",
       "    </tr>\n",
       "    <tr>\n",
       "      <th>1</th>\n",
       "      <td>6/23/15 12:29</td>\n",
       "      <td>30.42</td>\n",
       "      <td>18.95</td>\n",
       "      <td>32776</td>\n",
       "      <td>12.88</td>\n",
       "      <td>32779</td>\n",
       "      <td>-0.095035</td>\n",
       "      <td>-0.09240</td>\n",
       "    </tr>\n",
       "    <tr>\n",
       "      <th>2</th>\n",
       "      <td>6/23/15 12:30</td>\n",
       "      <td>30.43</td>\n",
       "      <td>18.79</td>\n",
       "      <td>32774</td>\n",
       "      <td>12.88</td>\n",
       "      <td>32777</td>\n",
       "      <td>-0.057021</td>\n",
       "      <td>-0.05544</td>\n",
       "    </tr>\n",
       "    <tr>\n",
       "      <th>3</th>\n",
       "      <td>6/23/15 12:31</td>\n",
       "      <td>30.43</td>\n",
       "      <td>13.30</td>\n",
       "      <td>32760</td>\n",
       "      <td>12.80</td>\n",
       "      <td>32750</td>\n",
       "      <td>0.209077</td>\n",
       "      <td>0.44352</td>\n",
       "    </tr>\n",
       "    <tr>\n",
       "      <th>4</th>\n",
       "      <td>6/23/15 12:32</td>\n",
       "      <td>30.42</td>\n",
       "      <td>13.23</td>\n",
       "      <td>32766</td>\n",
       "      <td>12.75</td>\n",
       "      <td>32745</td>\n",
       "      <td>0.095035</td>\n",
       "      <td>0.53592</td>\n",
       "    </tr>\n",
       "  </tbody>\n",
       "</table>\n",
       "</div>"
      ],
      "text/plain": [
       "            Time  #0: CH0 [Â°C]  #1: CH1 [V]  #2: CH2 [Digit]  #3: CH3 [V]  \\\n",
       "0  6/23/15 12:28          30.40        18.37            32777        12.89   \n",
       "1  6/23/15 12:29          30.42        18.95            32776        12.88   \n",
       "2  6/23/15 12:30          30.43        18.79            32774        12.88   \n",
       "3  6/23/15 12:31          30.43        13.30            32760        12.80   \n",
       "4  6/23/15 12:32          30.42        13.23            32766        12.75   \n",
       "\n",
       "   #4: CH4 [Digit]  PV Current  Battery Current  \n",
       "0            32779   -0.114042         -0.09240  \n",
       "1            32779   -0.095035         -0.09240  \n",
       "2            32777   -0.057021         -0.05544  \n",
       "3            32750    0.209077          0.44352  \n",
       "4            32745    0.095035          0.53592  "
      ]
     },
     "execution_count": 36,
     "metadata": {},
     "output_type": "execute_result"
    }
   ],
   "source": [
    "house = pd.read_csv('/Users/nathalie.willems/Documents/AAAM/machine_learning/AI4Environment/Solar_Energy_Prediction/House_2_Processed_TimeSeries.csv')\n",
    "house2 = pd.read_csv('/Users/nathalie.willems/Documents/AAAM/machine_learning/AI4Environment/Solar_Energy_Prediction/House_3_Processed_TimeSeries.csv')\n",
    "house3 = pd.read_csv('/Users/nathalie.willems/Documents/AAAM/machine_learning/AI4Environment/Solar_Energy_Prediction/House_4_Processed_TimeSeries.csv')\n",
    "\n",
    "house2.head(5)\n",
    "\n"
   ]
  },
  {
   "cell_type": "code",
   "execution_count": 42,
   "metadata": {},
   "outputs": [],
   "source": [
    "\n",
    "columns = ['Time', 'Temperature', 'PV_V', 'Digit', 'Battery_V', 'Digit2', 'PV_Current', 'Battery_Current']\n",
    "house.columns = columns\n",
    "house2.columns = columns\n",
    "house3.columns = columns"
   ]
  },
  {
   "cell_type": "code",
   "execution_count": 43,
   "metadata": {},
   "outputs": [],
   "source": [
    "# Convert to time values \n",
    "house['Time'] = pd.to_datetime(house['Time'])\n",
    "house_time = house.set_index(house['Time'])\n",
    "house_time.drop('Time', inplace=True, axis=1)\n",
    "\n",
    "house2['Time'] = pd.to_datetime(house2['Time'])\n",
    "house2_time = house2.set_index(house2['Time'])\n",
    "house2_time.drop('Time', inplace=True, axis=1)\n",
    "\n",
    "house3['Time'] = pd.to_datetime(house3['Time'])\n",
    "house3_time = house3.set_index(house3['Time'])\n",
    "house3_time.drop('Time', inplace=True, axis=1)"
   ]
  },
  {
   "cell_type": "code",
   "execution_count": 47,
   "metadata": {},
   "outputs": [],
   "source": [
    "# Calculate load values \n",
    "\n",
    "house['PV_Power'] = house['PV_V'] * house['PV_Current']\n",
    "house['Battery_Power'] = house['Battery_V'] * house['Battery_Current']\n",
    "house['Load'] = house['PV_Power'] + house['Battery_Power']\n",
    "\n",
    "# Set negative load values to 0 \n",
    "house['Load_Corrected'] = np.where(house['Load'] < 0, 0, house['Load'])\n"
   ]
  },
  {
   "cell_type": "code",
   "execution_count": 63,
   "metadata": {},
   "outputs": [],
   "source": [
    "# Calculate Rough Proxy for Irradiance\n",
    "\n",
    "# Assumptions \n",
    "pv_eff = .15 # efficiency\n",
    "pv_power = 70 # watts, TPS panel\n",
    "pv_area = .467 # area of panel m2\n",
    "cc_eff = 0.95 # charge controller efficiency\n",
    "\n",
    "house['Solar_Irradiance'] = (house['PV_Power'] / (pv_eff * pv_area)) * (1/cc_eff)\n",
    "house.head(5)\n",
    "\n",
    "# Separate Spillage from Load \n",
    "# Only day-time appliance \n",
    "fan_spillage = 14 # %mean power consumption of fan, Watts \n",
    "sigma_fan_spillage = .1*fan_spillage # assumption on standard deviation of fan power\n",
    "ci_90 = 1.645\n",
    "ci_95 = 1.96 \n",
    "\n",
    "# 90% confidence interval \n",
    "fan_90_ci_lower = fan_spillage-ci_90*sigma_fan_spillage \n",
    "fan_90_ci_upper = fan_spillage + ci_90*sigma_fan_spillage\n",
    "\n",
    "house['Spillage'] = np.where((house['Load_Corrected'] > 0.05) & (house['Load_Corrected'] < fan_90_ci_lower) | (house['Load_Corrected'] > fan_90_ci_upper), house['Load_Corrected'], 0)\n",
    "house['Spillage'] = np.where(house['Load_Corrected'] < fan_90_ci_upper, house['Load_Corrected'], 0)\n",
    "\n",
    "\n"
   ]
  },
  {
   "cell_type": "code",
   "execution_count": 40,
   "metadata": {},
   "outputs": [
    {
     "name": "stderr",
     "output_type": "stream",
     "text": [
      "/anaconda2/envs/py36/lib/python3.6/site-packages/ipykernel_launcher.py:4: FutureWarning: \n",
      "Passing list-likes to .loc or [] with any missing label will raise\n",
      "KeyError in the future, you can use .reindex() as an alternative.\n",
      "\n",
      "See the documentation here:\n",
      "http://pandas.pydata.org/pandas-docs/stable/indexing.html#deprecate-loc-reindex-listlike\n",
      "  after removing the cwd from sys.path.\n",
      "/anaconda2/envs/py36/lib/python3.6/site-packages/pandas/core/indexing.py:1367: FutureWarning: \n",
      "Passing list-likes to .loc or [] with any missing label will raise\n",
      "KeyError in the future, you can use .reindex() as an alternative.\n",
      "\n",
      "See the documentation here:\n",
      "http://pandas.pydata.org/pandas-docs/stable/indexing.html#deprecate-loc-reindex-listlike\n",
      "  return self._getitem_tuple(key)\n",
      "/anaconda2/envs/py36/lib/python3.6/site-packages/ipykernel_launcher.py:5: FutureWarning: \n",
      "Passing list-likes to .loc or [] with any missing label will raise\n",
      "KeyError in the future, you can use .reindex() as an alternative.\n",
      "\n",
      "See the documentation here:\n",
      "http://pandas.pydata.org/pandas-docs/stable/indexing.html#deprecate-loc-reindex-listlike\n",
      "  \"\"\"\n"
     ]
    },
    {
     "data": {
      "image/png": "[encoded data removed]",
      "text/plain": [
       "<Figure size 1152x576 with 2 Axes>"
      ]
     },
     "metadata": {},
     "output_type": "display_data"
    }
   ],
   "source": [
    "plt.figure(figsize=(16,8))\n",
    "ax1 = plt.subplot(121)\n",
    "ax2 = plt.subplot(122)\n",
    "house_time.loc[:,['PV_Current', 'PV_V']].plot(ax=ax1, kind='line')\n",
    "house2_time.loc[:,['Battery_Current','Battery_V']].plot(ax=ax2, kind='line')\n",
    "plt.show()"
   ]
  },
  {
   "cell_type": "code",
   "execution_count": null,
   "metadata": {},
   "outputs": [],
   "source": []
  }
 ],
 "metadata": {
  "kernelspec": {
   "display_name": "py36",
   "language": "python",
   "name": "py36"
  },
  "language_info": {
   "codemirror_mode": {
    "name": "ipython",
    "version": 3
   },
   "file_extension": ".py",
   "mimetype": "text/x-python",
   "name": "python",
   "nbconvert_exporter": "python",
   "pygments_lexer": "ipython3",
   "version": "3.6.5"
  }
 },
 "nbformat": 4,
 "nbformat_minor": 2
}
