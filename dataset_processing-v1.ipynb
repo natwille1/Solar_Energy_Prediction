{
 "cells": [
  {
   "cell_type": "code",
   "execution_count": 3,
   "metadata": {},
   "outputs": [],
   "source": [
    "import numpy as np\n",
    "import scipy\n",
    "import pandas as pd\n",
    "import math\n",
    "import random\n",
    "import sklearn\n",
    "from sklearn.model_selection import train_test_split\n",
    "from sklearn.feature_extraction.text import TfidfVectorizer\n",
    "from sklearn.metrics.pairwise import cosine_similarity\n",
    "from scipy.sparse.linalg import svds\n",
    "import matplotlib.pyplot as plt"
   ]
  },
  {
   "cell_type": "code",
   "execution_count": 4,
   "metadata": {},
   "outputs": [
    {
     "data": {
      "text/html": [
       "<div>\n",
       "<style scoped>\n",
       "    .dataframe tbody tr th:only-of-type {\n",
       "        vertical-align: middle;\n",
       "    }\n",
       "\n",
       "    .dataframe tbody tr th {\n",
       "        vertical-align: top;\n",
       "    }\n",
       "\n",
       "    .dataframe thead th {\n",
       "        text-align: right;\n",
       "    }\n",
       "</style>\n",
       "<table border=\"1\" class=\"dataframe\">\n",
       "  <thead>\n",
       "    <tr style=\"text-align: right;\">\n",
       "      <th></th>\n",
       "      <th>Time</th>\n",
       "      <th>#0: CH0 [Â°C]</th>\n",
       "      <th>#1: CH1 [V]</th>\n",
       "      <th>#2: CH2 [Digit]</th>\n",
       "      <th>#3: CH3 [V]</th>\n",
       "      <th>#4: CH4 [Digit]</th>\n",
       "      <th>PV Current</th>\n",
       "      <th>Battery Current</th>\n",
       "    </tr>\n",
       "  </thead>\n",
       "  <tbody>\n",
       "    <tr>\n",
       "      <th>0</th>\n",
       "      <td>6/23/15 12:28</td>\n",
       "      <td>30.40</td>\n",
       "      <td>18.37</td>\n",
       "      <td>32777</td>\n",
       "      <td>12.89</td>\n",
       "      <td>32779</td>\n",
       "      <td>-0.114042</td>\n",
       "      <td>-0.09240</td>\n",
       "    </tr>\n",
       "    <tr>\n",
       "      <th>1</th>\n",
       "      <td>6/23/15 12:29</td>\n",
       "      <td>30.42</td>\n",
       "      <td>18.95</td>\n",
       "      <td>32776</td>\n",
       "      <td>12.88</td>\n",
       "      <td>32779</td>\n",
       "      <td>-0.095035</td>\n",
       "      <td>-0.09240</td>\n",
       "    </tr>\n",
       "    <tr>\n",
       "      <th>2</th>\n",
       "      <td>6/23/15 12:30</td>\n",
       "      <td>30.43</td>\n",
       "      <td>18.79</td>\n",
       "      <td>32774</td>\n",
       "      <td>12.88</td>\n",
       "      <td>32777</td>\n",
       "      <td>-0.057021</td>\n",
       "      <td>-0.05544</td>\n",
       "    </tr>\n",
       "    <tr>\n",
       "      <th>3</th>\n",
       "      <td>6/23/15 12:31</td>\n",
       "      <td>30.43</td>\n",
       "      <td>13.30</td>\n",
       "      <td>32760</td>\n",
       "      <td>12.80</td>\n",
       "      <td>32750</td>\n",
       "      <td>0.209077</td>\n",
       "      <td>0.44352</td>\n",
       "    </tr>\n",
       "    <tr>\n",
       "      <th>4</th>\n",
       "      <td>6/23/15 12:32</td>\n",
       "      <td>30.42</td>\n",
       "      <td>13.23</td>\n",
       "      <td>32766</td>\n",
       "      <td>12.75</td>\n",
       "      <td>32745</td>\n",
       "      <td>0.095035</td>\n",
       "      <td>0.53592</td>\n",
       "    </tr>\n",
       "  </tbody>\n",
       "</table>\n",
       "</div>"
      ],
      "text/plain": [
       "            Time  #0: CH0 [Â°C]  #1: CH1 [V]  #2: CH2 [Digit]  #3: CH3 [V]  \\\n",
       "0  6/23/15 12:28          30.40        18.37            32777        12.89   \n",
       "1  6/23/15 12:29          30.42        18.95            32776        12.88   \n",
       "2  6/23/15 12:30          30.43        18.79            32774        12.88   \n",
       "3  6/23/15 12:31          30.43        13.30            32760        12.80   \n",
       "4  6/23/15 12:32          30.42        13.23            32766        12.75   \n",
       "\n",
       "   #4: CH4 [Digit]  PV Current  Battery Current  \n",
       "0            32779   -0.114042         -0.09240  \n",
       "1            32779   -0.095035         -0.09240  \n",
       "2            32777   -0.057021         -0.05544  \n",
       "3            32750    0.209077          0.44352  \n",
       "4            32745    0.095035          0.53592  "
      ]
     },
     "execution_count": 4,
     "metadata": {},
     "output_type": "execute_result"
    }
   ],
   "source": [
    "house = pd.read_csv('/Users/nathalie.willems/Documents/AAAM/machine_learning/AI4Environment/solar_home_system_data_log-master/data/House_2_January_TimeSeries.csv')\n",
    "house2 = pd.read_csv('/Users/nathalie.willems/Documents/AAAM/machine_learning/AI4Environment/solar_home_system_data_log-master/data/House_3_January_TimeSeries.csv')\n",
    "house3 = pd.read_csv('/Users/nathalie.willems/Documents/AAAM/machine_learning/AI4Environment/solar_home_system_data_log-master/data/House_4_January_TimeSeries.csv')\n",
    "\n",
    "house2.head(5)\n",
    "\n"
   ]
  },
  {
   "cell_type": "code",
   "execution_count": 5,
   "metadata": {},
   "outputs": [
    {
     "data": {
      "text/html": [
       "<div>\n",
       "<style scoped>\n",
       "    .dataframe tbody tr th:only-of-type {\n",
       "        vertical-align: middle;\n",
       "    }\n",
       "\n",
       "    .dataframe tbody tr th {\n",
       "        vertical-align: top;\n",
       "    }\n",
       "\n",
       "    .dataframe thead th {\n",
       "        text-align: right;\n",
       "    }\n",
       "</style>\n",
       "<table border=\"1\" class=\"dataframe\">\n",
       "  <thead>\n",
       "    <tr style=\"text-align: right;\">\n",
       "      <th></th>\n",
       "      <th>Time</th>\n",
       "      <th>Temperature</th>\n",
       "      <th>PV_V</th>\n",
       "      <th>Digit</th>\n",
       "      <th>Battery_V</th>\n",
       "      <th>Digit2</th>\n",
       "      <th>PV_Current</th>\n",
       "      <th>Battery_Current</th>\n",
       "    </tr>\n",
       "  </thead>\n",
       "  <tbody>\n",
       "    <tr>\n",
       "      <th>0</th>\n",
       "      <td>6/23/15 12:28</td>\n",
       "      <td>30.40</td>\n",
       "      <td>18.37</td>\n",
       "      <td>32777</td>\n",
       "      <td>12.89</td>\n",
       "      <td>32779</td>\n",
       "      <td>-0.114042</td>\n",
       "      <td>-0.09240</td>\n",
       "    </tr>\n",
       "    <tr>\n",
       "      <th>1</th>\n",
       "      <td>6/23/15 12:29</td>\n",
       "      <td>30.42</td>\n",
       "      <td>18.95</td>\n",
       "      <td>32776</td>\n",
       "      <td>12.88</td>\n",
       "      <td>32779</td>\n",
       "      <td>-0.095035</td>\n",
       "      <td>-0.09240</td>\n",
       "    </tr>\n",
       "    <tr>\n",
       "      <th>2</th>\n",
       "      <td>6/23/15 12:30</td>\n",
       "      <td>30.43</td>\n",
       "      <td>18.79</td>\n",
       "      <td>32774</td>\n",
       "      <td>12.88</td>\n",
       "      <td>32777</td>\n",
       "      <td>-0.057021</td>\n",
       "      <td>-0.05544</td>\n",
       "    </tr>\n",
       "    <tr>\n",
       "      <th>3</th>\n",
       "      <td>6/23/15 12:31</td>\n",
       "      <td>30.43</td>\n",
       "      <td>13.30</td>\n",
       "      <td>32760</td>\n",
       "      <td>12.80</td>\n",
       "      <td>32750</td>\n",
       "      <td>0.209077</td>\n",
       "      <td>0.44352</td>\n",
       "    </tr>\n",
       "    <tr>\n",
       "      <th>4</th>\n",
       "      <td>6/23/15 12:32</td>\n",
       "      <td>30.42</td>\n",
       "      <td>13.23</td>\n",
       "      <td>32766</td>\n",
       "      <td>12.75</td>\n",
       "      <td>32745</td>\n",
       "      <td>0.095035</td>\n",
       "      <td>0.53592</td>\n",
       "    </tr>\n",
       "  </tbody>\n",
       "</table>\n",
       "</div>"
      ],
      "text/plain": [
       "            Time  Temperature   PV_V  Digit  Battery_V  Digit2  PV_Current  \\\n",
       "0  6/23/15 12:28        30.40  18.37  32777      12.89   32779   -0.114042   \n",
       "1  6/23/15 12:29        30.42  18.95  32776      12.88   32779   -0.095035   \n",
       "2  6/23/15 12:30        30.43  18.79  32774      12.88   32777   -0.057021   \n",
       "3  6/23/15 12:31        30.43  13.30  32760      12.80   32750    0.209077   \n",
       "4  6/23/15 12:32        30.42  13.23  32766      12.75   32745    0.095035   \n",
       "\n",
       "   Battery_Current  \n",
       "0         -0.09240  \n",
       "1         -0.09240  \n",
       "2         -0.05544  \n",
       "3          0.44352  \n",
       "4          0.53592  "
      ]
     },
     "execution_count": 5,
     "metadata": {},
     "output_type": "execute_result"
    }
   ],
   "source": [
    "\n",
    "columns = ['Time', 'Temperature', 'PV_V', 'Digit', 'Battery_V', 'Digit2', 'PV_Current', 'Battery_Current']\n",
    "house.columns = columns\n",
    "house2.columns = columns\n",
    "house3.columns = columns\n",
    "\n",
    "house2.head(5)"
   ]
  },
  {
   "cell_type": "code",
   "execution_count": 6,
   "metadata": {},
   "outputs": [],
   "source": [
    "# define assumptions and calibration values\n",
    "\n",
    "# calibration slope for 3 amps\n",
    "slope_channel_2 = [ -0.0190226, -0.0181098, -0.018034, -0.0184049, 0.0185455]\n",
    "slope_channel_4 = [ 0.017730, -0.01779, -0.01845, -0.018519, 0.018765]\n",
    "\n",
    "zero_channel_2 = [32766, 32786, 32776, 32771, 32774]\n",
    "zero_channel_4 = [32775, 32785, 32777, 32771, 32775]\n",
    "\n",
    "# assumptions \n",
    "pv_eff = 0.15 # efficiency\n",
    "pv_power = 70 # watts, TPS panel\n",
    "pv_area = 0.467 # area of panel m2\n",
    "cc_eff = 0.95 # charge controller efficiency\n",
    "\n",
    "# Separate Spillage from Load \n",
    "# Only day-time appliance \n",
    "fan_spillage = 14 # %mean power consumption of fan, Watts \n",
    "sigma_fan_spillage = .1*fan_spillage # assumption on standard deviation of fan power\n",
    "ci_90 = 1.645\n",
    "ci_95 = 1.96 \n",
    "\n",
    "# 90% confidence interval\n",
    "fan_90_ci_lower = fan_spillage-ci_90*sigma_fan_spillage \n",
    "fan_90_ci_upper = fan_spillage + ci_90*sigma_fan_spillage\n",
    "# define functions \n",
    "\n",
    "def calibration(data, number):\n",
    "    \n",
    "    house_number = number\n",
    "    \n",
    "    data['PV_Current_Adj'] = (data['PV_Current'] - zero_channel_2[house_number])*slope_channel_2[house_number]\n",
    "    data['Battery_Current_Adj'] = (data['Battery_Current'] - zero_channel_4[house_number])*slope_channel_4[house_number]\n",
    "\n",
    "    # Set negative PV current values to 0 \n",
    "\n",
    "    data['PV_Current_Adj'] = np.where(data['PV_Current_Adj'] < 0, 0, data['PV_Current_Adj'])\n",
    "    \n",
    "    # Calculate load values \n",
    "\n",
    "    data['PV_Power'] = data['PV_V'] * data['PV_Current']\n",
    "    data['Battery_Power'] = data['Battery_V'] * data['Battery_Current']\n",
    "    data['Load'] = data['PV_Power'] + data['Battery_Power']\n",
    "\n",
    "    # Set negative load values to 0 \n",
    "    data['Load_Corrected'] = np.where(data['Load'] < 0, 0, data['Load'])\n",
    "    \n",
    "    # Calculate Rough Proxy for Irradiance\n",
    "    #solar.irradiance_datalog(k) = (pv.power(k)./(solar.pv_eff*solar.pv_area))*(1/solar.cc_eff);\n",
    "    data['Solar_Irradiance'] = (data['PV_Power'] / (pv_eff * pv_area)) * (1/cc_eff)\n",
    "\n",
    "# if solar irrdiance is above 5 W/m2 and load value is NOT in 90% CI range, classify as spillage\n",
    "\n",
    "    data['Spillage'] = np.where((data['Solar_Irradiance'] > 0.05) & (data['Load_Corrected'] < fan_90_ci_lower) | (data['Load_Corrected'] > fan_90_ci_upper), data['Load_Corrected'], 0)\n",
    "    data['Spillage'] = np.where(data['Load_Corrected'] < fan_90_ci_lower, data['Load_Corrected'], 0)\n",
    "            \n",
    "    data['Time'] = pd.to_datetime(data['Time'])\n",
    "    data_time = data.set_index(data['Time'])\n",
    "    data_time.drop('Time', inplace=True, axis=1)\n",
    "    \n",
    "    plt.figure(figsize=(16,8))\n",
    "    data_time.loc[:,['Load_Corrected', 'Spillage']].plot(kind='line')\n",
    "    plt.show()\n",
    "    \n",
    "    return data\n",
    "\n"
   ]
  },
  {
   "cell_type": "code",
   "execution_count": 8,
   "metadata": {},
   "outputs": [
    {
     "data": {
      "text/plain": [
       "<Figure size 1152x576 with 0 Axes>"
      ]
     },
     "metadata": {},
     "output_type": "display_data"
    },
    {
     "data": {
      "image/png": "[encoded data removed]",
      "text/plain": [
       "<Figure size 432x288 with 1 Axes>"
      ]
     },
     "metadata": {},
     "output_type": "display_data"
    },
    {
     "data": {
      "text/plain": [
       "<Figure size 1152x576 with 0 Axes>"
      ]
     },
     "metadata": {},
     "output_type": "display_data"
    },
    {
     "data": {
      "image/png": "[encoded data removed]",
      "text/plain": [
       "<Figure size 432x288 with 1 Axes>"
      ]
     },
     "metadata": {},
     "output_type": "display_data"
    },
    {
     "data": {
      "text/plain": [
       "<Figure size 1152x576 with 0 Axes>"
      ]
     },
     "metadata": {},
     "output_type": "display_data"
    },
    {
     "data": {
      "image/png": "[encoded data removed]",
      "text/plain": [
       "<Figure size 432x288 with 1 Axes>"
      ]
     },
     "metadata": {},
     "output_type": "display_data"
    }
   ],
   "source": [
    "house_cp, house2_cp, house3_cp = house.copy(), house2.copy(), house3.copy()\n",
    "\n",
    "house_processed = calibration(house_cp, 2)\n",
    "house2_processed = calibration(house2_cp, 3)\n",
    "house3_processed = calibration(house3_cp, 4)"
   ]
  },
  {
   "cell_type": "code",
   "execution_count": 9,
   "metadata": {},
   "outputs": [],
   "source": [
    "house_processed.to_csv('House_2_Processed1_TimeSeries.csv')\n",
    "house2_processed.to_csv('House_3_Processed1_TimeSeries.csv')\n",
    "house3_processed.to_csv('House_4_Processed1_TimeSeries.csv')"
   ]
  },
  {
   "cell_type": "code",
   "execution_count": null,
   "metadata": {},
   "outputs": [],
   "source": []
  }
 ],
 "metadata": {
  "kernelspec": {
   "display_name": "py36",
   "language": "python",
   "name": "py36"
  },
  "language_info": {
   "codemirror_mode": {
    "name": "ipython",
    "version": 3
   },
   "file_extension": ".py",
   "mimetype": "text/x-python",
   "name": "python",
   "nbconvert_exporter": "python",
   "pygments_lexer": "ipython3",
   "version": "3.6.5"
  }
 },
 "nbformat": 4,
 "nbformat_minor": 2
}
