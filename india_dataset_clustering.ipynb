{
 "cells": [
  {
   "cell_type": "code",
   "execution_count": 1,
   "metadata": {},
   "outputs": [],
   "source": [
    "import numpy as np\n",
    "import scipy\n",
    "import pandas as pd\n",
    "import math\n",
    "import random\n",
    "import sklearn\n",
    "from sklearn.model_selection import train_test_split\n",
    "from sklearn.cluster import KMeans, AgglomerativeClustering\n",
    "import matplotlib.pyplot as plt\n",
    "from sklearn.metrics import accuracy_score\n",
    "from sklearn.mixture import GaussianMixture\n",
    "from matplotlib.patches import Ellipse\n",
    "from sklearn.preprocessing import StandardScaler\n",
    "import scipy.cluster.hierarchy as sch"
   ]
  },
  {
   "cell_type": "code",
   "execution_count": 2,
   "metadata": {},
   "outputs": [
    {
     "data": {
      "text/html": [
       "<div>\n",
       "<style scoped>\n",
       "    .dataframe tbody tr th:only-of-type {\n",
       "        vertical-align: middle;\n",
       "    }\n",
       "\n",
       "    .dataframe tbody tr th {\n",
       "        vertical-align: top;\n",
       "    }\n",
       "\n",
       "    .dataframe thead th {\n",
       "        text-align: right;\n",
       "    }\n",
       "</style>\n",
       "<table border=\"1\" class=\"dataframe\">\n",
       "  <thead>\n",
       "    <tr style=\"text-align: right;\">\n",
       "      <th></th>\n",
       "      <th>Unnamed: 0</th>\n",
       "      <th>Time</th>\n",
       "      <th>Temperature</th>\n",
       "      <th>PV_V</th>\n",
       "      <th>Digit</th>\n",
       "      <th>Battery_V</th>\n",
       "      <th>Digit2</th>\n",
       "      <th>PV_Current</th>\n",
       "      <th>Battery_Current</th>\n",
       "      <th>PV_Power</th>\n",
       "      <th>Battery_Power</th>\n",
       "      <th>Load</th>\n",
       "      <th>Load_Corrected</th>\n",
       "      <th>Solar_Irradiance</th>\n",
       "      <th>Spillage</th>\n",
       "    </tr>\n",
       "  </thead>\n",
       "  <tbody>\n",
       "    <tr>\n",
       "      <th>0</th>\n",
       "      <td>0</td>\n",
       "      <td>2015-06-23 12:28:00</td>\n",
       "      <td>30.40</td>\n",
       "      <td>18.37</td>\n",
       "      <td>32777</td>\n",
       "      <td>12.89</td>\n",
       "      <td>32779</td>\n",
       "      <td>-0.114042</td>\n",
       "      <td>-0.09240</td>\n",
       "      <td>-2.094952</td>\n",
       "      <td>-1.191036</td>\n",
       "      <td>-3.285988</td>\n",
       "      <td>0.000000</td>\n",
       "      <td>-31.480545</td>\n",
       "      <td>0.000000</td>\n",
       "    </tr>\n",
       "    <tr>\n",
       "      <th>1</th>\n",
       "      <td>1</td>\n",
       "      <td>2015-06-23 12:29:00</td>\n",
       "      <td>30.42</td>\n",
       "      <td>18.95</td>\n",
       "      <td>32776</td>\n",
       "      <td>12.88</td>\n",
       "      <td>32779</td>\n",
       "      <td>-0.095035</td>\n",
       "      <td>-0.09240</td>\n",
       "      <td>-1.800913</td>\n",
       "      <td>-1.190112</td>\n",
       "      <td>-2.991025</td>\n",
       "      <td>0.000000</td>\n",
       "      <td>-27.062072</td>\n",
       "      <td>0.000000</td>\n",
       "    </tr>\n",
       "    <tr>\n",
       "      <th>2</th>\n",
       "      <td>2</td>\n",
       "      <td>2015-06-23 12:30:00</td>\n",
       "      <td>30.43</td>\n",
       "      <td>18.79</td>\n",
       "      <td>32774</td>\n",
       "      <td>12.88</td>\n",
       "      <td>32777</td>\n",
       "      <td>-0.057021</td>\n",
       "      <td>-0.05544</td>\n",
       "      <td>-1.071425</td>\n",
       "      <td>-0.714067</td>\n",
       "      <td>-1.785492</td>\n",
       "      <td>0.000000</td>\n",
       "      <td>-16.100148</td>\n",
       "      <td>0.000000</td>\n",
       "    </tr>\n",
       "    <tr>\n",
       "      <th>3</th>\n",
       "      <td>3</td>\n",
       "      <td>2015-06-23 12:31:00</td>\n",
       "      <td>30.43</td>\n",
       "      <td>13.30</td>\n",
       "      <td>32760</td>\n",
       "      <td>12.80</td>\n",
       "      <td>32750</td>\n",
       "      <td>0.209077</td>\n",
       "      <td>0.44352</td>\n",
       "      <td>2.780724</td>\n",
       "      <td>5.677056</td>\n",
       "      <td>8.457780</td>\n",
       "      <td>8.457780</td>\n",
       "      <td>41.785553</td>\n",
       "      <td>8.457780</td>\n",
       "    </tr>\n",
       "    <tr>\n",
       "      <th>4</th>\n",
       "      <td>4</td>\n",
       "      <td>2015-06-23 12:32:00</td>\n",
       "      <td>30.42</td>\n",
       "      <td>13.23</td>\n",
       "      <td>32766</td>\n",
       "      <td>12.75</td>\n",
       "      <td>32745</td>\n",
       "      <td>0.095035</td>\n",
       "      <td>0.53592</td>\n",
       "      <td>1.257313</td>\n",
       "      <td>6.832980</td>\n",
       "      <td>8.090293</td>\n",
       "      <td>8.090293</td>\n",
       "      <td>18.893468</td>\n",
       "      <td>8.090293</td>\n",
       "    </tr>\n",
       "  </tbody>\n",
       "</table>\n",
       "</div>"
      ],
      "text/plain": [
       "   Unnamed: 0                 Time  Temperature   PV_V  Digit  Battery_V  \\\n",
       "0           0  2015-06-23 12:28:00        30.40  18.37  32777      12.89   \n",
       "1           1  2015-06-23 12:29:00        30.42  18.95  32776      12.88   \n",
       "2           2  2015-06-23 12:30:00        30.43  18.79  32774      12.88   \n",
       "3           3  2015-06-23 12:31:00        30.43  13.30  32760      12.80   \n",
       "4           4  2015-06-23 12:32:00        30.42  13.23  32766      12.75   \n",
       "\n",
       "   Digit2  PV_Current  Battery_Current  PV_Power  Battery_Power      Load  \\\n",
       "0   32779   -0.114042         -0.09240 -2.094952      -1.191036 -3.285988   \n",
       "1   32779   -0.095035         -0.09240 -1.800913      -1.190112 -2.991025   \n",
       "2   32777   -0.057021         -0.05544 -1.071425      -0.714067 -1.785492   \n",
       "3   32750    0.209077          0.44352  2.780724       5.677056  8.457780   \n",
       "4   32745    0.095035          0.53592  1.257313       6.832980  8.090293   \n",
       "\n",
       "   Load_Corrected  Solar_Irradiance  Spillage  \n",
       "0        0.000000        -31.480545  0.000000  \n",
       "1        0.000000        -27.062072  0.000000  \n",
       "2        0.000000        -16.100148  0.000000  \n",
       "3        8.457780         41.785553  8.457780  \n",
       "4        8.090293         18.893468  8.090293  "
      ]
     },
     "execution_count": 2,
     "metadata": {},
     "output_type": "execute_result"
    }
   ],
   "source": [
    "house = pd.read_csv('/Users/nathalie.willems/Documents/AAAM/machine_learning/AI4Environment/Solar_Energy_Prediction/House_2_Processed_TimeSeries.csv')\n",
    "house2 = pd.read_csv('/Users/nathalie.willems/Documents/AAAM/machine_learning/AI4Environment/Solar_Energy_Prediction/House_3_Processed_TimeSeries.csv')\n",
    "house3 = pd.read_csv('/Users/nathalie.willems/Documents/AAAM/machine_learning/AI4Environment/Solar_Energy_Prediction/House_4_Processed_TimeSeries.csv')\n",
    "states = pd.read_csv('/Users/nathalie.willems/Documents/AAAM/machine_learning/AI4Environment/Solar_Energy_Prediction/state_appliance_combinations.csv')\n",
    "house2.head(5)"
   ]
  },
  {
   "cell_type": "code",
   "execution_count": 3,
   "metadata": {},
   "outputs": [
    {
     "data": {
      "text/html": [
       "<div>\n",
       "<style scoped>\n",
       "    .dataframe tbody tr th:only-of-type {\n",
       "        vertical-align: middle;\n",
       "    }\n",
       "\n",
       "    .dataframe tbody tr th {\n",
       "        vertical-align: top;\n",
       "    }\n",
       "\n",
       "    .dataframe thead th {\n",
       "        text-align: right;\n",
       "    }\n",
       "</style>\n",
       "<table border=\"1\" class=\"dataframe\">\n",
       "  <thead>\n",
       "    <tr style=\"text-align: right;\">\n",
       "      <th></th>\n",
       "      <th>State</th>\n",
       "      <th>Expected_Mean_Power</th>\n",
       "      <th>Appliance_Combination</th>\n",
       "    </tr>\n",
       "  </thead>\n",
       "  <tbody>\n",
       "    <tr>\n",
       "      <th>0</th>\n",
       "      <td>1</td>\n",
       "      <td>0</td>\n",
       "      <td>None</td>\n",
       "    </tr>\n",
       "    <tr>\n",
       "      <th>1</th>\n",
       "      <td>2</td>\n",
       "      <td>9</td>\n",
       "      <td>1_CFL</td>\n",
       "    </tr>\n",
       "    <tr>\n",
       "      <th>2</th>\n",
       "      <td>3</td>\n",
       "      <td>14</td>\n",
       "      <td>1_Fan</td>\n",
       "    </tr>\n",
       "    <tr>\n",
       "      <th>3</th>\n",
       "      <td>4</td>\n",
       "      <td>18</td>\n",
       "      <td>2_CFL</td>\n",
       "    </tr>\n",
       "    <tr>\n",
       "      <th>4</th>\n",
       "      <td>5</td>\n",
       "      <td>23</td>\n",
       "      <td>1_Fan_1_CFL</td>\n",
       "    </tr>\n",
       "    <tr>\n",
       "      <th>5</th>\n",
       "      <td>6</td>\n",
       "      <td>27</td>\n",
       "      <td>3_CFL</td>\n",
       "    </tr>\n",
       "    <tr>\n",
       "      <th>6</th>\n",
       "      <td>7</td>\n",
       "      <td>32</td>\n",
       "      <td>2_CFL_1_Fan</td>\n",
       "    </tr>\n",
       "    <tr>\n",
       "      <th>7</th>\n",
       "      <td>8</td>\n",
       "      <td>36</td>\n",
       "      <td>4_CFL</td>\n",
       "    </tr>\n",
       "    <tr>\n",
       "      <th>8</th>\n",
       "      <td>9</td>\n",
       "      <td>41</td>\n",
       "      <td>3_CFL_1_Fan</td>\n",
       "    </tr>\n",
       "    <tr>\n",
       "      <th>9</th>\n",
       "      <td>10</td>\n",
       "      <td>50</td>\n",
       "      <td>4_CFL_1_Fan</td>\n",
       "    </tr>\n",
       "  </tbody>\n",
       "</table>\n",
       "</div>"
      ],
      "text/plain": [
       "   State  Expected_Mean_Power Appliance_Combination\n",
       "0      1                    0                  None\n",
       "1      2                    9                 1_CFL\n",
       "2      3                   14                 1_Fan\n",
       "3      4                   18                 2_CFL\n",
       "4      5                   23           1_Fan_1_CFL\n",
       "5      6                   27                 3_CFL\n",
       "6      7                   32           2_CFL_1_Fan\n",
       "7      8                   36                 4_CFL\n",
       "8      9                   41           3_CFL_1_Fan\n",
       "9     10                   50           4_CFL_1_Fan"
      ]
     },
     "execution_count": 3,
     "metadata": {},
     "output_type": "execute_result"
    }
   ],
   "source": [
    "states.head(10)"
   ]
  },
  {
   "cell_type": "code",
   "execution_count": 4,
   "metadata": {},
   "outputs": [],
   "source": [
    "def conditions(x):\n",
    "    if x == 0:\n",
    "        return '1'\n",
    "    elif x > 0 and x <= 9:\n",
    "        return '2'\n",
    "    elif x > 9 and x <= 14:\n",
    "        return '3'\n",
    "    elif x > 14 and x <=18:\n",
    "        return '4'\n",
    "    elif x > 18 and x <=23:\n",
    "        return '5'\n",
    "    elif x > 23 and x <=27:\n",
    "        return '6'\n",
    "    elif x > 27 and x <=32:\n",
    "        return '7'\n",
    "    elif x > 32 and x <= 36:\n",
    "        return '8'\n",
    "    elif x > 36 and x <= 41:\n",
    "        return '9'\n",
    "    else:\n",
    "        return '10'\n",
    "    \n",
    "\n",
    "func = np.vectorize(conditions)\n",
    "energy_class = func(house['Load_Corrected'])\n",
    "house['State'] = energy_class"
   ]
  },
  {
   "cell_type": "code",
   "execution_count": 5,
   "metadata": {},
   "outputs": [
    {
     "data": {
      "text/plain": [
       "(319756, 18)"
      ]
     },
     "execution_count": 5,
     "metadata": {},
     "output_type": "execute_result"
    }
   ],
   "source": [
    "house.shape"
   ]
  },
  {
   "cell_type": "code",
   "execution_count": 6,
   "metadata": {},
   "outputs": [
    {
     "data": {
      "text/html": [
       "<div>\n",
       "<style scoped>\n",
       "    .dataframe tbody tr th:only-of-type {\n",
       "        vertical-align: middle;\n",
       "    }\n",
       "\n",
       "    .dataframe tbody tr th {\n",
       "        vertical-align: top;\n",
       "    }\n",
       "\n",
       "    .dataframe thead th {\n",
       "        text-align: right;\n",
       "    }\n",
       "</style>\n",
       "<table border=\"1\" class=\"dataframe\">\n",
       "  <thead>\n",
       "    <tr style=\"text-align: right;\">\n",
       "      <th></th>\n",
       "      <th>index</th>\n",
       "      <th>State</th>\n",
       "    </tr>\n",
       "  </thead>\n",
       "  <tbody>\n",
       "    <tr>\n",
       "      <th>0</th>\n",
       "      <td>1</td>\n",
       "      <td>193632</td>\n",
       "    </tr>\n",
       "    <tr>\n",
       "      <th>1</th>\n",
       "      <td>2</td>\n",
       "      <td>79220</td>\n",
       "    </tr>\n",
       "    <tr>\n",
       "      <th>2</th>\n",
       "      <td>4</td>\n",
       "      <td>22295</td>\n",
       "    </tr>\n",
       "    <tr>\n",
       "      <th>3</th>\n",
       "      <td>6</td>\n",
       "      <td>10779</td>\n",
       "    </tr>\n",
       "    <tr>\n",
       "      <th>4</th>\n",
       "      <td>3</td>\n",
       "      <td>7810</td>\n",
       "    </tr>\n",
       "    <tr>\n",
       "      <th>5</th>\n",
       "      <td>8</td>\n",
       "      <td>2856</td>\n",
       "    </tr>\n",
       "    <tr>\n",
       "      <th>6</th>\n",
       "      <td>5</td>\n",
       "      <td>2122</td>\n",
       "    </tr>\n",
       "    <tr>\n",
       "      <th>7</th>\n",
       "      <td>7</td>\n",
       "      <td>941</td>\n",
       "    </tr>\n",
       "    <tr>\n",
       "      <th>8</th>\n",
       "      <td>9</td>\n",
       "      <td>53</td>\n",
       "    </tr>\n",
       "    <tr>\n",
       "      <th>9</th>\n",
       "      <td>10</td>\n",
       "      <td>48</td>\n",
       "    </tr>\n",
       "  </tbody>\n",
       "</table>\n",
       "</div>"
      ],
      "text/plain": [
       "  index   State\n",
       "0     1  193632\n",
       "1     2   79220\n",
       "2     4   22295\n",
       "3     6   10779\n",
       "4     3    7810\n",
       "5     8    2856\n",
       "6     5    2122\n",
       "7     7     941\n",
       "8     9      53\n",
       "9    10      48"
      ]
     },
     "execution_count": 6,
     "metadata": {},
     "output_type": "execute_result"
    }
   ],
   "source": [
    "house['State'].value_counts().reset_index()\n"
   ]
  },
  {
   "cell_type": "code",
   "execution_count": 7,
   "metadata": {},
   "outputs": [
    {
     "data": {
      "image/png": "[encoded data removed]",
      "text/plain": [
       "<Figure size 1152x720 with 1 Axes>"
      ]
     },
     "metadata": {},
     "output_type": "display_data"
    }
   ],
   "source": [
    "plt.figure(figsize=(16,10))\n",
    "house['State'].value_counts().plot(kind='bar', title='Frequency of States')\n",
    "plt.xlabel(\"State\")\n",
    "plt.ylabel(\"Count\")\n",
    "plt.show()"
   ]
  },
  {
   "cell_type": "code",
   "execution_count": 8,
   "metadata": {},
   "outputs": [
    {
     "data": {
      "text/plain": [
       "<Figure size 1152x864 with 0 Axes>"
      ]
     },
     "metadata": {},
     "output_type": "display_data"
    },
    {
     "data": {
      "image/png": "[encoded data removed]",
      "text/plain": [
       "<Figure size 432x288 with 1 Axes>"
      ]
     },
     "metadata": {},
     "output_type": "display_data"
    }
   ],
   "source": [
    "plt.figure(figsize=(16,12))\n",
    "house['State'] = house['State'].astype('int64')\n",
    "house.plot(x='State', y='Load_Corrected', kind='scatter')\n",
    "plt.show()"
   ]
  },
  {
   "cell_type": "markdown",
   "metadata": {},
   "source": [
    "## KMeans Cluster Models"
   ]
  },
  {
   "cell_type": "code",
   "execution_count": 9,
   "metadata": {},
   "outputs": [
    {
     "data": {
      "text/plain": [
       "<matplotlib.collections.PathCollection at 0x1a10b47e80>"
      ]
     },
     "execution_count": 9,
     "metadata": {},
     "output_type": "execute_result"
    },
    {
     "data": {
      "image/png": "[encoded data removed]",
      "text/plain": [
       "<Figure size 432x288 with 1 Axes>"
      ]
     },
     "metadata": {},
     "output_type": "display_data"
    }
   ],
   "source": [
    "# fit Kmeans\n",
    "states_load = house.loc[:,['State','Load_Corrected']]\n",
    "X = np.array(states_load.loc[:,'Load_Corrected']).reshape(-1,1)\n",
    "y = np.array(states_load.loc[:,'State']).reshape(-1,1)\n",
    "kmeans = KMeans(n_clusters=10)\n",
    "kmeans.fit(states_load)\n",
    "y_kmeans = kmeans.predict(states_load)\n",
    "\n",
    "# Plot clusters\n",
    "plt.scatter(states_load.loc[:, 'State'], states_load.loc[:, 'Load_Corrected'], c=y_kmeans, s=50, cmap='viridis')\n",
    "centers = kmeans.cluster_centers_\n",
    "plt.scatter(centers[:, 0],  centers[:, 1], c='black', s=200, alpha=1)"
   ]
  },
  {
   "cell_type": "markdown",
   "metadata": {},
   "source": [
    "### State initialisation"
   ]
  },
  {
   "cell_type": "code",
   "execution_count": 10,
   "metadata": {},
   "outputs": [
    {
     "name": "stderr",
     "output_type": "stream",
     "text": [
      "/anaconda2/envs/py36/lib/python3.6/site-packages/sklearn/cluster/k_means_.py:896: RuntimeWarning: Explicit initial center position passed: performing only one init in k-means instead of n_init=10\n",
      "  return_n_iter=True)\n"
     ]
    },
    {
     "data": {
      "text/plain": [
       "<matplotlib.collections.PathCollection at 0x1a0f141048>"
      ]
     },
     "execution_count": 10,
     "metadata": {},
     "output_type": "execute_result"
    },
    {
     "data": {
      "image/png": "[encoded data removed]",
      "text/plain": [
       "<Figure size 432x288 with 1 Axes>"
      ]
     },
     "metadata": {},
     "output_type": "display_data"
    }
   ],
   "source": [
    "## Initialise cluster centers with averages for each state\n",
    "\n",
    "temp = states_load.groupby('State')['Load_Corrected'].mean()\n",
    "temp_ar = np.array(temp)\n",
    "states = [1,2,3,4,5,6,7,8,9,10]\n",
    "averaged = np.column_stack((temp,states))\n",
    "\n",
    "# fit Kmeans\n",
    "X = np.array(states_load.loc[:,'Load_Corrected']).reshape(-1,1)\n",
    "y = np.array(states_load.loc[:,'State']).reshape(-1,1)\n",
    "kmeans = KMeans(n_clusters=10, init=averaged)\n",
    "kmeans.fit(states_load)\n",
    "y_kmeans = kmeans.predict(states_load)\n",
    "\n",
    "plt.scatter(states_load.loc[:, 'State'], states_load.loc[:, 'Load_Corrected'], c=y_kmeans, s=50, cmap='viridis')\n",
    "\n",
    "centers = kmeans.cluster_centers_\n",
    "plt.scatter(centers[:, 0],  centers[:,1], c='black', s=200, alpha=1)"
   ]
  },
  {
   "cell_type": "markdown",
   "metadata": {},
   "source": [
    "### Scale variables and compare initialisation method accuracy "
   ]
  },
  {
   "cell_type": "code",
   "execution_count": 11,
   "metadata": {},
   "outputs": [],
   "source": [
    "scaled = StandardScaler()\n",
    "states_scaled = scaled.fit_transform(X)\n",
    "states = states_load['State']\n",
    "states_scaled = np.column_stack((states,states_scaled))"
   ]
  },
  {
   "cell_type": "code",
   "execution_count": 12,
   "metadata": {},
   "outputs": [
    {
     "data": {
      "text/plain": [
       "<matplotlib.collections.PathCollection at 0x1a120c08d0>"
      ]
     },
     "execution_count": 12,
     "metadata": {},
     "output_type": "execute_result"
    },
    {
     "data": {
      "image/png": "[encoded data removed]",
      "text/plain": [
       "<Figure size 432x288 with 1 Axes>"
      ]
     },
     "metadata": {},
     "output_type": "display_data"
    }
   ],
   "source": [
    "# Cluster\n",
    "kmeans = KMeans(n_clusters=10)\n",
    "kmeans.fit(states_scaled)\n",
    "y_kmeans = kmeans.predict(states_scaled)\n",
    "\n",
    "plt.scatter(states_scaled[:,0], states_scaled[:,1], c=y_kmeans, s=50, cmap='viridis')\n",
    "centers = kmeans.cluster_centers_\n",
    "plt.scatter(centers[:, 0],  centers[:,1], c='black', s=200, alpha=1)"
   ]
  },
  {
   "cell_type": "code",
   "execution_count": 13,
   "metadata": {},
   "outputs": [
    {
     "name": "stdout",
     "output_type": "stream",
     "text": [
      "Evaluation of KMeans with k-means++ init\n",
      "Evaluation of KMeans with random init\n",
      "Evaluation of KMeans with [[ 0.          1.        ]\n",
      " [ 6.71036356  2.        ]\n",
      " [ 9.66841154  3.        ]\n",
      " [16.29018343  4.        ]\n",
      " [18.87594505  5.        ]\n",
      " [25.06220111  6.        ]\n",
      " [30.00689768  7.        ]\n",
      " [33.32743651  8.        ]\n",
      " [38.3894043   9.        ]\n",
      " [42.15167598 10.        ]] init\n"
     ]
    },
    {
     "name": "stderr",
     "output_type": "stream",
     "text": [
      "/anaconda2/envs/py36/lib/python3.6/site-packages/sklearn/cluster/k_means_.py:896: RuntimeWarning: Explicit initial center position passed: performing only one init in k-means instead of n_init=10\n",
      "  return_n_iter=True)\n"
     ]
    },
    {
     "name": "stdout",
     "output_type": "stream",
     "text": [
      "Evaluation of KMeans with k-means++ init\n",
      "Evaluation of KMeans with random init\n",
      "Evaluation of KMeans with [[ 0.          1.        ]\n",
      " [ 6.71036356  2.        ]\n",
      " [ 9.66841154  3.        ]\n",
      " [16.29018343  4.        ]\n",
      " [18.87594505  5.        ]\n",
      " [25.06220111  6.        ]\n",
      " [30.00689768  7.        ]\n",
      " [33.32743651  8.        ]\n",
      " [38.3894043   9.        ]\n",
      " [42.15167598 10.        ]] init\n"
     ]
    },
    {
     "data": {
      "text/plain": [
       "Text(0.5,0,'Initialisation')"
      ]
     },
     "execution_count": 13,
     "metadata": {},
     "output_type": "execute_result"
    },
    {
     "data": {
      "image/png": "[encoded data removed]",
      "text/plain": [
       "<Figure size 1296x432 with 1 Axes>"
      ]
     },
     "metadata": {},
     "output_type": "display_data"
    }
   ],
   "source": [
    "## Compare methods of initialisation with KMeans, Random, and a dictionary with cluster center initialisation using calculated means\n",
    "\n",
    "cases = [\n",
    "    (KMeans, 1,'k-means++', {}),\n",
    "    (KMeans,2, 'random', {}),\n",
    "    (KMeans,3, averaged, {})\n",
    "]\n",
    "n_clusters = 10\n",
    "\n",
    "\n",
    "# Inertia is defined as the sum of squared distances to the nearest cluster center\n",
    "inertia = {}\n",
    "\n",
    "# Regular data set\n",
    "for factory, i, init, params in cases:\n",
    "    print(\"Evaluation of %s with %s init\" % (factory.__name__, init))\n",
    "    km = factory(n_clusters, init=init, **params).fit(states_load)\n",
    "    if i == 3:\n",
    "        init = 'averaged'\n",
    "        inertia[init] = km.inertia_       \n",
    "    else:\n",
    "        inertia[init] = km.inertia_\n",
    "\n",
    "# Scaled data set \n",
    "for factory, i, init, params in cases:\n",
    "    print(\"Evaluation of %s with %s init\" % (factory.__name__, init))\n",
    "    km = factory(n_clusters, init=init, **params).fit(states_scaled)\n",
    "    if i == 3:\n",
    "        init = 'averaged'\n",
    "        init = init + '_scaled'\n",
    "        inertia[init] = km.inertia_       \n",
    "    else:\n",
    "        init = init + '_scaled'\n",
    "        inertia[init] = km.inertia_\n",
    "        \n",
    "# Plot comparison \n",
    "\n",
    "plt.figure(figsize=(18,6))\n",
    "plt.bar(range(len(inertia)), list(inertia.values()))\n",
    "plt.xticks(range(len(inertia)), list(inertia.keys()))\n",
    "plt.ylabel('Inertia')\n",
    "plt.xlabel('Initialisation')\n",
    "    "
   ]
  },
  {
   "cell_type": "markdown",
   "metadata": {},
   "source": [
    "## Gaussian Mixture Models"
   ]
  },
  {
   "cell_type": "code",
   "execution_count": 18,
   "metadata": {},
   "outputs": [
    {
     "data": {
      "text/plain": [
       "<matplotlib.collections.PathCollection at 0x1a12a5e9e8>"
      ]
     },
     "execution_count": 18,
     "metadata": {},
     "output_type": "execute_result"
    },
    {
     "data": {
      "image/png": "[encoded data removed]",
      "text/plain": [
       "<Figure size 432x288 with 1 Axes>"
      ]
     },
     "metadata": {},
     "output_type": "display_data"
    }
   ],
   "source": [
    "gmm = GaussianMixture(n_components=10).fit(states_load)\n",
    "centers = gmm.means_\n",
    "labels = gmm.predict(states_load)\n",
    "\n",
    "plt.scatter(states_load.loc[:, 'State'], states_load.loc[:, 'Load_Corrected'], c=labels, s=40, cmap='viridis')\n",
    "plt.scatter(centers[:, 0], centers[:, 1], c='black', s=200, alpha=1)"
   ]
  },
  {
   "cell_type": "code",
   "execution_count": 20,
   "metadata": {},
   "outputs": [
    {
     "data": {
      "text/plain": [
       "<matplotlib.collections.PathCollection at 0x1a12a825c0>"
      ]
     },
     "execution_count": 20,
     "metadata": {},
     "output_type": "execute_result"
    },
    {
     "data": {
      "image/png": "[encoded data removed]",
      "text/plain": [
       "<Figure size 432x288 with 1 Axes>"
      ]
     },
     "metadata": {},
     "output_type": "display_data"
    }
   ],
   "source": [
    "### Scaled variables \n",
    "\n",
    "gmm = GaussianMixture(n_components=10).fit(states_scaled)\n",
    "centers = gmm.means_\n",
    "labels = gmm.predict(states_scaled)\n",
    "\n",
    "plt.scatter(states_scaled[:,0], states_scaled[:,1], c=labels, s=40, cmap='viridis')\n",
    "plt.scatter(centers[:, 0], centers[:, 1], c='black', s=200, alpha=1)"
   ]
  },
  {
   "cell_type": "code",
   "execution_count": 23,
   "metadata": {},
   "outputs": [
    {
     "data": {
      "image/png": "[encoded data removed]",
      "text/plain": [
       "<Figure size 432x288 with 1 Axes>"
      ]
     },
     "metadata": {},
     "output_type": "display_data"
    },
    {
     "data": {
      "image/png": "[encoded data removed]",
      "text/plain": [
       "<Figure size 432x288 with 1 Axes>"
      ]
     },
     "metadata": {},
     "output_type": "display_data"
    }
   ],
   "source": [
    "## Covariance type = full \n",
    "\n",
    "gmm_cov = GaussianMixture(n_components=10, covariance_type='full').fit(states_load)\n",
    "centers_cov = gmm_cov.means_\n",
    "labels - gmm_cov.predict(states_load)\n",
    "\n",
    "# Scaled data\n",
    "gmm_cov_scaled = GaussianMixture(n_components=10, covariance_type='full').fit(states_scaled)\n",
    "centers_cov_scaled = gmm.means_\n",
    "labels_scaled = gmm_cov.predict(states_scaled)\n",
    "\n",
    "plt.scatter(states_load.loc[:, 'State'], states_load.loc[:, 'Load_Corrected'], c=labels, s=40, cmap='viridis')\n",
    "plt.title(\"Unscaled Data\")\n",
    "plt.scatter(centers_cov[:, 0], centers_cov[:, 1], c='black', s=200, alpha=1)\n",
    "plt.show()\n",
    "\n",
    "plt.scatter(states_scaled[:,0], states_scaled[:,1], c=labels_scaled, s=40, cmap='viridis')\n",
    "plt.title(\"Scaled Data\")\n",
    "plt.scatter(centers_cov_scaled[:, 0], centers_cov_scaled[:, 1], c='black', s=200, alpha=1)\n",
    "plt.show()"
   ]
  },
  {
   "cell_type": "code",
   "execution_count": null,
   "metadata": {},
   "outputs": [],
   "source": [
    "## Plot BIC and AIC for a range of components using scaled data set \n",
    "\n",
    "n_components = np.arange(1, 12)\n",
    "models = [GaussianMixture(n, covariance_type='full', random_state=0).fit(states_scaled)\n",
    "          for n in n_components]\n",
    "\n",
    "plt.figure(figsize=(16,8))\n",
    "plt.plot(n_components, [m.bic(states_scaled) for m in models], label='BIC')\n",
    "plt.plot(n_components, [m.aic(states_scaled) for m in models], label='AIC')\n",
    "plt.legend(loc='best')\n",
    "plt.xlabel('n_components')"
   ]
  },
  {
   "cell_type": "markdown",
   "metadata": {},
   "source": [
    "## Hierarchical Clustering Models"
   ]
  },
  {
   "cell_type": "code",
   "execution_count": null,
   "metadata": {},
   "outputs": [],
   "source": [
    "# create dendrogram\n",
    "dendrogram = sch.dendrogram(sch.linkage(states_scaled, method='ward'))\n",
    "# create clusters\n",
    "hc = AgglomerativeClustering(n_clusters=10, affinity = 'euclidean', linkage = 'ward')\n",
    "# save clusters for chart\n",
    "y_hc = hc.fit_predict(states_scaled)"
   ]
  },
  {
   "cell_type": "code",
   "execution_count": 1,
   "metadata": {
    "scrolled": true
   },
   "outputs": [
    {
     "ename": "NameError",
     "evalue": "name 'plt' is not defined",
     "output_type": "error",
     "traceback": [
      "\u001b[0;31m---------------------------------------------------------------------------\u001b[0m",
      "\u001b[0;31mNameError\u001b[0m                                 Traceback (most recent call last)",
      "\u001b[0;32m<ipython-input-1-36918f8e5622>\u001b[0m in \u001b[0;36m<module>\u001b[0;34m()\u001b[0m\n\u001b[0;32m----> 1\u001b[0;31m \u001b[0mplt\u001b[0m\u001b[0;34m.\u001b[0m\u001b[0mscatter\u001b[0m\u001b[0;34m(\u001b[0m\u001b[0mstates_scaled\u001b[0m\u001b[0;34m[\u001b[0m\u001b[0my_hc\u001b[0m \u001b[0;34m==\u001b[0m\u001b[0;36m0\u001b[0m\u001b[0;34m,\u001b[0m\u001b[0;36m0\u001b[0m\u001b[0;34m]\u001b[0m\u001b[0;34m,\u001b[0m \u001b[0mstates_scaled\u001b[0m\u001b[0;34m[\u001b[0m\u001b[0my_hc\u001b[0m \u001b[0;34m==\u001b[0m \u001b[0;36m0\u001b[0m\u001b[0;34m,\u001b[0m\u001b[0;36m1\u001b[0m\u001b[0;34m]\u001b[0m\u001b[0;34m,\u001b[0m \u001b[0ms\u001b[0m\u001b[0;34m=\u001b[0m\u001b[0;36m100\u001b[0m\u001b[0;34m,\u001b[0m \u001b[0mc\u001b[0m\u001b[0;34m=\u001b[0m\u001b[0;34m'red'\u001b[0m\u001b[0;34m)\u001b[0m\u001b[0;34m\u001b[0m\u001b[0m\n\u001b[0m\u001b[1;32m      2\u001b[0m \u001b[0mplt\u001b[0m\u001b[0;34m.\u001b[0m\u001b[0mscatter\u001b[0m\u001b[0;34m(\u001b[0m\u001b[0mstates_scaled\u001b[0m\u001b[0;34m[\u001b[0m\u001b[0my_hc\u001b[0m\u001b[0;34m==\u001b[0m\u001b[0;36m1\u001b[0m\u001b[0;34m,\u001b[0m\u001b[0;36m0\u001b[0m\u001b[0;34m]\u001b[0m\u001b[0;34m,\u001b[0m \u001b[0mstates_scaled\u001b[0m\u001b[0;34m[\u001b[0m\u001b[0my_hc\u001b[0m \u001b[0;34m==\u001b[0m \u001b[0;36m1\u001b[0m\u001b[0;34m,\u001b[0m\u001b[0;36m1\u001b[0m\u001b[0;34m]\u001b[0m\u001b[0;34m,\u001b[0m \u001b[0ms\u001b[0m\u001b[0;34m=\u001b[0m\u001b[0;36m100\u001b[0m\u001b[0;34m,\u001b[0m \u001b[0mc\u001b[0m\u001b[0;34m=\u001b[0m\u001b[0;34m'black'\u001b[0m\u001b[0;34m)\u001b[0m\u001b[0;34m\u001b[0m\u001b[0m\n\u001b[1;32m      3\u001b[0m \u001b[0mplt\u001b[0m\u001b[0;34m.\u001b[0m\u001b[0mscatter\u001b[0m\u001b[0;34m(\u001b[0m\u001b[0mstates_scaled\u001b[0m\u001b[0;34m[\u001b[0m\u001b[0my_hc\u001b[0m \u001b[0;34m==\u001b[0m\u001b[0;36m2\u001b[0m\u001b[0;34m,\u001b[0m\u001b[0;36m0\u001b[0m\u001b[0;34m]\u001b[0m\u001b[0;34m,\u001b[0m \u001b[0mstates_scaled\u001b[0m\u001b[0;34m[\u001b[0m\u001b[0my_hc\u001b[0m \u001b[0;34m==\u001b[0m \u001b[0;36m2\u001b[0m\u001b[0;34m,\u001b[0m\u001b[0;36m1\u001b[0m\u001b[0;34m]\u001b[0m\u001b[0;34m,\u001b[0m \u001b[0ms\u001b[0m\u001b[0;34m=\u001b[0m\u001b[0;36m100\u001b[0m\u001b[0;34m,\u001b[0m \u001b[0mc\u001b[0m\u001b[0;34m=\u001b[0m\u001b[0;34m'blue'\u001b[0m\u001b[0;34m)\u001b[0m\u001b[0;34m\u001b[0m\u001b[0m\n\u001b[1;32m      4\u001b[0m \u001b[0mplt\u001b[0m\u001b[0;34m.\u001b[0m\u001b[0mscatter\u001b[0m\u001b[0;34m(\u001b[0m\u001b[0mstates_scaled\u001b[0m\u001b[0;34m[\u001b[0m\u001b[0my_hc\u001b[0m \u001b[0;34m==\u001b[0m\u001b[0;36m3\u001b[0m\u001b[0;34m,\u001b[0m\u001b[0;36m0\u001b[0m\u001b[0;34m]\u001b[0m\u001b[0;34m,\u001b[0m \u001b[0mstates_scaled\u001b[0m\u001b[0;34m[\u001b[0m\u001b[0my_hc\u001b[0m \u001b[0;34m==\u001b[0m \u001b[0;36m3\u001b[0m\u001b[0;34m,\u001b[0m\u001b[0;36m1\u001b[0m\u001b[0;34m]\u001b[0m\u001b[0;34m,\u001b[0m \u001b[0ms\u001b[0m\u001b[0;34m=\u001b[0m\u001b[0;36m100\u001b[0m\u001b[0;34m,\u001b[0m \u001b[0mc\u001b[0m\u001b[0;34m=\u001b[0m\u001b[0;34m'green'\u001b[0m\u001b[0;34m)\u001b[0m\u001b[0;34m\u001b[0m\u001b[0m\n",
      "\u001b[0;31mNameError\u001b[0m: name 'plt' is not defined"
     ]
    }
   ],
   "source": [
    "plt.scatter(states_scaled[y_hc ==0,0], states_scaled[y_hc == 0,1], s=100, c='red')\n",
    "plt.scatter(states_scaled[y_hc==1,0], states_scaled[y_hc == 1,1], s=100, c='black')\n",
    "plt.scatter(states_scaled[y_hc ==2,0], states_scaled[y_hc == 2,1], s=100, c='blue')\n",
    "plt.scatter(states_scaled[y_hc ==3,0], states_scaled[y_hc == 3,1], s=100, c='green')"
   ]
  },
  {
   "cell_type": "code",
   "execution_count": null,
   "metadata": {},
   "outputs": [],
   "source": []
  }
 ],
 "metadata": {
  "kernelspec": {
   "display_name": "py36",
   "language": "python",
   "name": "py36"
  },
  "language_info": {
   "codemirror_mode": {
    "name": "ipython",
    "version": 3
   },
   "file_extension": ".py",
   "mimetype": "text/x-python",
   "name": "python",
   "nbconvert_exporter": "python",
   "pygments_lexer": "ipython3",
   "version": "3.6.5"
  }
 },
 "nbformat": 4,
 "nbformat_minor": 2
}
